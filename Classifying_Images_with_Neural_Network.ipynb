{
  "nbformat": 4,
  "nbformat_minor": 0,
  "metadata": {
    "colab": {
      "provenance": [],
      "collapsed_sections": [],
      "include_colab_link": true
    },
    "kernelspec": {
      "name": "python3",
      "display_name": "Python 3"
    },
    "language_info": {
      "name": "python"
    },
    "widgets": {
      "application/vnd.jupyter.widget-state+json": {
        "eabe1ab33a1e44d1af5cdf50bcda1fd8": {
          "model_module": "@jupyter-widgets/controls",
          "model_name": "HBoxModel",
          "model_module_version": "1.5.0",
          "state": {
            "_dom_classes": [],
            "_model_module": "@jupyter-widgets/controls",
            "_model_module_version": "1.5.0",
            "_model_name": "HBoxModel",
            "_view_count": null,
            "_view_module": "@jupyter-widgets/controls",
            "_view_module_version": "1.5.0",
            "_view_name": "HBoxView",
            "box_style": "",
            "children": [
              "IPY_MODEL_a8148b1697364f12915e1871c7ef80a8",
              "IPY_MODEL_cee7f392c7bd4409af932a71f8ab55f2",
              "IPY_MODEL_4cd80964e7804f489e26fd87ef417b0a"
            ],
            "layout": "IPY_MODEL_6a3fcbf9980444a191a99d335eec337e"
          }
        },
        "a8148b1697364f12915e1871c7ef80a8": {
          "model_module": "@jupyter-widgets/controls",
          "model_name": "HTMLModel",
          "model_module_version": "1.5.0",
          "state": {
            "_dom_classes": [],
            "_model_module": "@jupyter-widgets/controls",
            "_model_module_version": "1.5.0",
            "_model_name": "HTMLModel",
            "_view_count": null,
            "_view_module": "@jupyter-widgets/controls",
            "_view_module_version": "1.5.0",
            "_view_name": "HTMLView",
            "description": "",
            "description_tooltip": null,
            "layout": "IPY_MODEL_baa5301bf4434c0f83886217ec235431",
            "placeholder": "​",
            "style": "IPY_MODEL_0b99a39ca81d43378086c4eaa213932d",
            "value": "100%"
          }
        },
        "cee7f392c7bd4409af932a71f8ab55f2": {
          "model_module": "@jupyter-widgets/controls",
          "model_name": "FloatProgressModel",
          "model_module_version": "1.5.0",
          "state": {
            "_dom_classes": [],
            "_model_module": "@jupyter-widgets/controls",
            "_model_module_version": "1.5.0",
            "_model_name": "FloatProgressModel",
            "_view_count": null,
            "_view_module": "@jupyter-widgets/controls",
            "_view_module_version": "1.5.0",
            "_view_name": "ProgressView",
            "bar_style": "success",
            "description": "",
            "description_tooltip": null,
            "layout": "IPY_MODEL_a001bf72382c4b8194d4763c0bd9daf5",
            "max": 26421880,
            "min": 0,
            "orientation": "horizontal",
            "style": "IPY_MODEL_435ede99545b42718230308d452f733c",
            "value": 26421880
          }
        },
        "4cd80964e7804f489e26fd87ef417b0a": {
          "model_module": "@jupyter-widgets/controls",
          "model_name": "HTMLModel",
          "model_module_version": "1.5.0",
          "state": {
            "_dom_classes": [],
            "_model_module": "@jupyter-widgets/controls",
            "_model_module_version": "1.5.0",
            "_model_name": "HTMLModel",
            "_view_count": null,
            "_view_module": "@jupyter-widgets/controls",
            "_view_module_version": "1.5.0",
            "_view_name": "HTMLView",
            "description": "",
            "description_tooltip": null,
            "layout": "IPY_MODEL_91f5da6f37af4b42b8a99fd00d10391c",
            "placeholder": "​",
            "style": "IPY_MODEL_1afa99f3079f4cad87c7fe7fce639770",
            "value": " 26421880/26421880 [00:03&lt;00:00, 13860356.88it/s]"
          }
        },
        "6a3fcbf9980444a191a99d335eec337e": {
          "model_module": "@jupyter-widgets/base",
          "model_name": "LayoutModel",
          "model_module_version": "1.2.0",
          "state": {
            "_model_module": "@jupyter-widgets/base",
            "_model_module_version": "1.2.0",
            "_model_name": "LayoutModel",
            "_view_count": null,
            "_view_module": "@jupyter-widgets/base",
            "_view_module_version": "1.2.0",
            "_view_name": "LayoutView",
            "align_content": null,
            "align_items": null,
            "align_self": null,
            "border": null,
            "bottom": null,
            "display": null,
            "flex": null,
            "flex_flow": null,
            "grid_area": null,
            "grid_auto_columns": null,
            "grid_auto_flow": null,
            "grid_auto_rows": null,
            "grid_column": null,
            "grid_gap": null,
            "grid_row": null,
            "grid_template_areas": null,
            "grid_template_columns": null,
            "grid_template_rows": null,
            "height": null,
            "justify_content": null,
            "justify_items": null,
            "left": null,
            "margin": null,
            "max_height": null,
            "max_width": null,
            "min_height": null,
            "min_width": null,
            "object_fit": null,
            "object_position": null,
            "order": null,
            "overflow": null,
            "overflow_x": null,
            "overflow_y": null,
            "padding": null,
            "right": null,
            "top": null,
            "visibility": null,
            "width": null
          }
        },
        "baa5301bf4434c0f83886217ec235431": {
          "model_module": "@jupyter-widgets/base",
          "model_name": "LayoutModel",
          "model_module_version": "1.2.0",
          "state": {
            "_model_module": "@jupyter-widgets/base",
            "_model_module_version": "1.2.0",
            "_model_name": "LayoutModel",
            "_view_count": null,
            "_view_module": "@jupyter-widgets/base",
            "_view_module_version": "1.2.0",
            "_view_name": "LayoutView",
            "align_content": null,
            "align_items": null,
            "align_self": null,
            "border": null,
            "bottom": null,
            "display": null,
            "flex": null,
            "flex_flow": null,
            "grid_area": null,
            "grid_auto_columns": null,
            "grid_auto_flow": null,
            "grid_auto_rows": null,
            "grid_column": null,
            "grid_gap": null,
            "grid_row": null,
            "grid_template_areas": null,
            "grid_template_columns": null,
            "grid_template_rows": null,
            "height": null,
            "justify_content": null,
            "justify_items": null,
            "left": null,
            "margin": null,
            "max_height": null,
            "max_width": null,
            "min_height": null,
            "min_width": null,
            "object_fit": null,
            "object_position": null,
            "order": null,
            "overflow": null,
            "overflow_x": null,
            "overflow_y": null,
            "padding": null,
            "right": null,
            "top": null,
            "visibility": null,
            "width": null
          }
        },
        "0b99a39ca81d43378086c4eaa213932d": {
          "model_module": "@jupyter-widgets/controls",
          "model_name": "DescriptionStyleModel",
          "model_module_version": "1.5.0",
          "state": {
            "_model_module": "@jupyter-widgets/controls",
            "_model_module_version": "1.5.0",
            "_model_name": "DescriptionStyleModel",
            "_view_count": null,
            "_view_module": "@jupyter-widgets/base",
            "_view_module_version": "1.2.0",
            "_view_name": "StyleView",
            "description_width": ""
          }
        },
        "a001bf72382c4b8194d4763c0bd9daf5": {
          "model_module": "@jupyter-widgets/base",
          "model_name": "LayoutModel",
          "model_module_version": "1.2.0",
          "state": {
            "_model_module": "@jupyter-widgets/base",
            "_model_module_version": "1.2.0",
            "_model_name": "LayoutModel",
            "_view_count": null,
            "_view_module": "@jupyter-widgets/base",
            "_view_module_version": "1.2.0",
            "_view_name": "LayoutView",
            "align_content": null,
            "align_items": null,
            "align_self": null,
            "border": null,
            "bottom": null,
            "display": null,
            "flex": null,
            "flex_flow": null,
            "grid_area": null,
            "grid_auto_columns": null,
            "grid_auto_flow": null,
            "grid_auto_rows": null,
            "grid_column": null,
            "grid_gap": null,
            "grid_row": null,
            "grid_template_areas": null,
            "grid_template_columns": null,
            "grid_template_rows": null,
            "height": null,
            "justify_content": null,
            "justify_items": null,
            "left": null,
            "margin": null,
            "max_height": null,
            "max_width": null,
            "min_height": null,
            "min_width": null,
            "object_fit": null,
            "object_position": null,
            "order": null,
            "overflow": null,
            "overflow_x": null,
            "overflow_y": null,
            "padding": null,
            "right": null,
            "top": null,
            "visibility": null,
            "width": null
          }
        },
        "435ede99545b42718230308d452f733c": {
          "model_module": "@jupyter-widgets/controls",
          "model_name": "ProgressStyleModel",
          "model_module_version": "1.5.0",
          "state": {
            "_model_module": "@jupyter-widgets/controls",
            "_model_module_version": "1.5.0",
            "_model_name": "ProgressStyleModel",
            "_view_count": null,
            "_view_module": "@jupyter-widgets/base",
            "_view_module_version": "1.2.0",
            "_view_name": "StyleView",
            "bar_color": null,
            "description_width": ""
          }
        },
        "91f5da6f37af4b42b8a99fd00d10391c": {
          "model_module": "@jupyter-widgets/base",
          "model_name": "LayoutModel",
          "model_module_version": "1.2.0",
          "state": {
            "_model_module": "@jupyter-widgets/base",
            "_model_module_version": "1.2.0",
            "_model_name": "LayoutModel",
            "_view_count": null,
            "_view_module": "@jupyter-widgets/base",
            "_view_module_version": "1.2.0",
            "_view_name": "LayoutView",
            "align_content": null,
            "align_items": null,
            "align_self": null,
            "border": null,
            "bottom": null,
            "display": null,
            "flex": null,
            "flex_flow": null,
            "grid_area": null,
            "grid_auto_columns": null,
            "grid_auto_flow": null,
            "grid_auto_rows": null,
            "grid_column": null,
            "grid_gap": null,
            "grid_row": null,
            "grid_template_areas": null,
            "grid_template_columns": null,
            "grid_template_rows": null,
            "height": null,
            "justify_content": null,
            "justify_items": null,
            "left": null,
            "margin": null,
            "max_height": null,
            "max_width": null,
            "min_height": null,
            "min_width": null,
            "object_fit": null,
            "object_position": null,
            "order": null,
            "overflow": null,
            "overflow_x": null,
            "overflow_y": null,
            "padding": null,
            "right": null,
            "top": null,
            "visibility": null,
            "width": null
          }
        },
        "1afa99f3079f4cad87c7fe7fce639770": {
          "model_module": "@jupyter-widgets/controls",
          "model_name": "DescriptionStyleModel",
          "model_module_version": "1.5.0",
          "state": {
            "_model_module": "@jupyter-widgets/controls",
            "_model_module_version": "1.5.0",
            "_model_name": "DescriptionStyleModel",
            "_view_count": null,
            "_view_module": "@jupyter-widgets/base",
            "_view_module_version": "1.2.0",
            "_view_name": "StyleView",
            "description_width": ""
          }
        },
        "47e0f05423094667ac2532377dc614ae": {
          "model_module": "@jupyter-widgets/controls",
          "model_name": "HBoxModel",
          "model_module_version": "1.5.0",
          "state": {
            "_dom_classes": [],
            "_model_module": "@jupyter-widgets/controls",
            "_model_module_version": "1.5.0",
            "_model_name": "HBoxModel",
            "_view_count": null,
            "_view_module": "@jupyter-widgets/controls",
            "_view_module_version": "1.5.0",
            "_view_name": "HBoxView",
            "box_style": "",
            "children": [
              "IPY_MODEL_21a0c4d995064677afbffd0ebbc36a08",
              "IPY_MODEL_683c442b1bbc42c497ce43d00609de62",
              "IPY_MODEL_36d949d86db84646a5af680f994a0185"
            ],
            "layout": "IPY_MODEL_1d449a51b33247ac8da92b32ea01be72"
          }
        },
        "21a0c4d995064677afbffd0ebbc36a08": {
          "model_module": "@jupyter-widgets/controls",
          "model_name": "HTMLModel",
          "model_module_version": "1.5.0",
          "state": {
            "_dom_classes": [],
            "_model_module": "@jupyter-widgets/controls",
            "_model_module_version": "1.5.0",
            "_model_name": "HTMLModel",
            "_view_count": null,
            "_view_module": "@jupyter-widgets/controls",
            "_view_module_version": "1.5.0",
            "_view_name": "HTMLView",
            "description": "",
            "description_tooltip": null,
            "layout": "IPY_MODEL_274c3155cd494d8da25096a7673ee36f",
            "placeholder": "​",
            "style": "IPY_MODEL_e481348233f9451e9155d220b002107a",
            "value": "100%"
          }
        },
        "683c442b1bbc42c497ce43d00609de62": {
          "model_module": "@jupyter-widgets/controls",
          "model_name": "FloatProgressModel",
          "model_module_version": "1.5.0",
          "state": {
            "_dom_classes": [],
            "_model_module": "@jupyter-widgets/controls",
            "_model_module_version": "1.5.0",
            "_model_name": "FloatProgressModel",
            "_view_count": null,
            "_view_module": "@jupyter-widgets/controls",
            "_view_module_version": "1.5.0",
            "_view_name": "ProgressView",
            "bar_style": "success",
            "description": "",
            "description_tooltip": null,
            "layout": "IPY_MODEL_7ff97eac00b44688afe91cd40446b3f0",
            "max": 29515,
            "min": 0,
            "orientation": "horizontal",
            "style": "IPY_MODEL_41a041d25de54a829491f2a4aa51e298",
            "value": 29515
          }
        },
        "36d949d86db84646a5af680f994a0185": {
          "model_module": "@jupyter-widgets/controls",
          "model_name": "HTMLModel",
          "model_module_version": "1.5.0",
          "state": {
            "_dom_classes": [],
            "_model_module": "@jupyter-widgets/controls",
            "_model_module_version": "1.5.0",
            "_model_name": "HTMLModel",
            "_view_count": null,
            "_view_module": "@jupyter-widgets/controls",
            "_view_module_version": "1.5.0",
            "_view_name": "HTMLView",
            "description": "",
            "description_tooltip": null,
            "layout": "IPY_MODEL_97d10c36fda84a948d95aaa7f1dd37a2",
            "placeholder": "​",
            "style": "IPY_MODEL_c10e22676c2841ab84945bace6f68475",
            "value": " 29515/29515 [00:00&lt;00:00, 143283.93it/s]"
          }
        },
        "1d449a51b33247ac8da92b32ea01be72": {
          "model_module": "@jupyter-widgets/base",
          "model_name": "LayoutModel",
          "model_module_version": "1.2.0",
          "state": {
            "_model_module": "@jupyter-widgets/base",
            "_model_module_version": "1.2.0",
            "_model_name": "LayoutModel",
            "_view_count": null,
            "_view_module": "@jupyter-widgets/base",
            "_view_module_version": "1.2.0",
            "_view_name": "LayoutView",
            "align_content": null,
            "align_items": null,
            "align_self": null,
            "border": null,
            "bottom": null,
            "display": null,
            "flex": null,
            "flex_flow": null,
            "grid_area": null,
            "grid_auto_columns": null,
            "grid_auto_flow": null,
            "grid_auto_rows": null,
            "grid_column": null,
            "grid_gap": null,
            "grid_row": null,
            "grid_template_areas": null,
            "grid_template_columns": null,
            "grid_template_rows": null,
            "height": null,
            "justify_content": null,
            "justify_items": null,
            "left": null,
            "margin": null,
            "max_height": null,
            "max_width": null,
            "min_height": null,
            "min_width": null,
            "object_fit": null,
            "object_position": null,
            "order": null,
            "overflow": null,
            "overflow_x": null,
            "overflow_y": null,
            "padding": null,
            "right": null,
            "top": null,
            "visibility": null,
            "width": null
          }
        },
        "274c3155cd494d8da25096a7673ee36f": {
          "model_module": "@jupyter-widgets/base",
          "model_name": "LayoutModel",
          "model_module_version": "1.2.0",
          "state": {
            "_model_module": "@jupyter-widgets/base",
            "_model_module_version": "1.2.0",
            "_model_name": "LayoutModel",
            "_view_count": null,
            "_view_module": "@jupyter-widgets/base",
            "_view_module_version": "1.2.0",
            "_view_name": "LayoutView",
            "align_content": null,
            "align_items": null,
            "align_self": null,
            "border": null,
            "bottom": null,
            "display": null,
            "flex": null,
            "flex_flow": null,
            "grid_area": null,
            "grid_auto_columns": null,
            "grid_auto_flow": null,
            "grid_auto_rows": null,
            "grid_column": null,
            "grid_gap": null,
            "grid_row": null,
            "grid_template_areas": null,
            "grid_template_columns": null,
            "grid_template_rows": null,
            "height": null,
            "justify_content": null,
            "justify_items": null,
            "left": null,
            "margin": null,
            "max_height": null,
            "max_width": null,
            "min_height": null,
            "min_width": null,
            "object_fit": null,
            "object_position": null,
            "order": null,
            "overflow": null,
            "overflow_x": null,
            "overflow_y": null,
            "padding": null,
            "right": null,
            "top": null,
            "visibility": null,
            "width": null
          }
        },
        "e481348233f9451e9155d220b002107a": {
          "model_module": "@jupyter-widgets/controls",
          "model_name": "DescriptionStyleModel",
          "model_module_version": "1.5.0",
          "state": {
            "_model_module": "@jupyter-widgets/controls",
            "_model_module_version": "1.5.0",
            "_model_name": "DescriptionStyleModel",
            "_view_count": null,
            "_view_module": "@jupyter-widgets/base",
            "_view_module_version": "1.2.0",
            "_view_name": "StyleView",
            "description_width": ""
          }
        },
        "7ff97eac00b44688afe91cd40446b3f0": {
          "model_module": "@jupyter-widgets/base",
          "model_name": "LayoutModel",
          "model_module_version": "1.2.0",
          "state": {
            "_model_module": "@jupyter-widgets/base",
            "_model_module_version": "1.2.0",
            "_model_name": "LayoutModel",
            "_view_count": null,
            "_view_module": "@jupyter-widgets/base",
            "_view_module_version": "1.2.0",
            "_view_name": "LayoutView",
            "align_content": null,
            "align_items": null,
            "align_self": null,
            "border": null,
            "bottom": null,
            "display": null,
            "flex": null,
            "flex_flow": null,
            "grid_area": null,
            "grid_auto_columns": null,
            "grid_auto_flow": null,
            "grid_auto_rows": null,
            "grid_column": null,
            "grid_gap": null,
            "grid_row": null,
            "grid_template_areas": null,
            "grid_template_columns": null,
            "grid_template_rows": null,
            "height": null,
            "justify_content": null,
            "justify_items": null,
            "left": null,
            "margin": null,
            "max_height": null,
            "max_width": null,
            "min_height": null,
            "min_width": null,
            "object_fit": null,
            "object_position": null,
            "order": null,
            "overflow": null,
            "overflow_x": null,
            "overflow_y": null,
            "padding": null,
            "right": null,
            "top": null,
            "visibility": null,
            "width": null
          }
        },
        "41a041d25de54a829491f2a4aa51e298": {
          "model_module": "@jupyter-widgets/controls",
          "model_name": "ProgressStyleModel",
          "model_module_version": "1.5.0",
          "state": {
            "_model_module": "@jupyter-widgets/controls",
            "_model_module_version": "1.5.0",
            "_model_name": "ProgressStyleModel",
            "_view_count": null,
            "_view_module": "@jupyter-widgets/base",
            "_view_module_version": "1.2.0",
            "_view_name": "StyleView",
            "bar_color": null,
            "description_width": ""
          }
        },
        "97d10c36fda84a948d95aaa7f1dd37a2": {
          "model_module": "@jupyter-widgets/base",
          "model_name": "LayoutModel",
          "model_module_version": "1.2.0",
          "state": {
            "_model_module": "@jupyter-widgets/base",
            "_model_module_version": "1.2.0",
            "_model_name": "LayoutModel",
            "_view_count": null,
            "_view_module": "@jupyter-widgets/base",
            "_view_module_version": "1.2.0",
            "_view_name": "LayoutView",
            "align_content": null,
            "align_items": null,
            "align_self": null,
            "border": null,
            "bottom": null,
            "display": null,
            "flex": null,
            "flex_flow": null,
            "grid_area": null,
            "grid_auto_columns": null,
            "grid_auto_flow": null,
            "grid_auto_rows": null,
            "grid_column": null,
            "grid_gap": null,
            "grid_row": null,
            "grid_template_areas": null,
            "grid_template_columns": null,
            "grid_template_rows": null,
            "height": null,
            "justify_content": null,
            "justify_items": null,
            "left": null,
            "margin": null,
            "max_height": null,
            "max_width": null,
            "min_height": null,
            "min_width": null,
            "object_fit": null,
            "object_position": null,
            "order": null,
            "overflow": null,
            "overflow_x": null,
            "overflow_y": null,
            "padding": null,
            "right": null,
            "top": null,
            "visibility": null,
            "width": null
          }
        },
        "c10e22676c2841ab84945bace6f68475": {
          "model_module": "@jupyter-widgets/controls",
          "model_name": "DescriptionStyleModel",
          "model_module_version": "1.5.0",
          "state": {
            "_model_module": "@jupyter-widgets/controls",
            "_model_module_version": "1.5.0",
            "_model_name": "DescriptionStyleModel",
            "_view_count": null,
            "_view_module": "@jupyter-widgets/base",
            "_view_module_version": "1.2.0",
            "_view_name": "StyleView",
            "description_width": ""
          }
        },
        "e2e6378e6d7249bdb8cfa58cf9dfd808": {
          "model_module": "@jupyter-widgets/controls",
          "model_name": "HBoxModel",
          "model_module_version": "1.5.0",
          "state": {
            "_dom_classes": [],
            "_model_module": "@jupyter-widgets/controls",
            "_model_module_version": "1.5.0",
            "_model_name": "HBoxModel",
            "_view_count": null,
            "_view_module": "@jupyter-widgets/controls",
            "_view_module_version": "1.5.0",
            "_view_name": "HBoxView",
            "box_style": "",
            "children": [
              "IPY_MODEL_e2da5f7ece254f2eb122d4796ee66f0b",
              "IPY_MODEL_abecbe982ce1423bb21586597308b34c",
              "IPY_MODEL_6a3fd641a9154cc1b09c7122d469e096"
            ],
            "layout": "IPY_MODEL_ab9011529c974151baa7c22895070cdd"
          }
        },
        "e2da5f7ece254f2eb122d4796ee66f0b": {
          "model_module": "@jupyter-widgets/controls",
          "model_name": "HTMLModel",
          "model_module_version": "1.5.0",
          "state": {
            "_dom_classes": [],
            "_model_module": "@jupyter-widgets/controls",
            "_model_module_version": "1.5.0",
            "_model_name": "HTMLModel",
            "_view_count": null,
            "_view_module": "@jupyter-widgets/controls",
            "_view_module_version": "1.5.0",
            "_view_name": "HTMLView",
            "description": "",
            "description_tooltip": null,
            "layout": "IPY_MODEL_3b42f22cb14d4586b666c97a8d695d45",
            "placeholder": "​",
            "style": "IPY_MODEL_ecafbedfd077439795b62cd8dfe2a281",
            "value": "100%"
          }
        },
        "abecbe982ce1423bb21586597308b34c": {
          "model_module": "@jupyter-widgets/controls",
          "model_name": "FloatProgressModel",
          "model_module_version": "1.5.0",
          "state": {
            "_dom_classes": [],
            "_model_module": "@jupyter-widgets/controls",
            "_model_module_version": "1.5.0",
            "_model_name": "FloatProgressModel",
            "_view_count": null,
            "_view_module": "@jupyter-widgets/controls",
            "_view_module_version": "1.5.0",
            "_view_name": "ProgressView",
            "bar_style": "success",
            "description": "",
            "description_tooltip": null,
            "layout": "IPY_MODEL_d0590c96757542fcb335b4ca687b48fa",
            "max": 4422102,
            "min": 0,
            "orientation": "horizontal",
            "style": "IPY_MODEL_8542831028c74dc1bbfb8e4315a925fc",
            "value": 4422102
          }
        },
        "6a3fd641a9154cc1b09c7122d469e096": {
          "model_module": "@jupyter-widgets/controls",
          "model_name": "HTMLModel",
          "model_module_version": "1.5.0",
          "state": {
            "_dom_classes": [],
            "_model_module": "@jupyter-widgets/controls",
            "_model_module_version": "1.5.0",
            "_model_name": "HTMLModel",
            "_view_count": null,
            "_view_module": "@jupyter-widgets/controls",
            "_view_module_version": "1.5.0",
            "_view_name": "HTMLView",
            "description": "",
            "description_tooltip": null,
            "layout": "IPY_MODEL_ea6f13bd569c4f9f9d35057a757e0d9f",
            "placeholder": "​",
            "style": "IPY_MODEL_b0242f1d0d2c413d9202b4dd645e43c9",
            "value": " 4422102/4422102 [00:01&lt;00:00, 4091696.77it/s]"
          }
        },
        "ab9011529c974151baa7c22895070cdd": {
          "model_module": "@jupyter-widgets/base",
          "model_name": "LayoutModel",
          "model_module_version": "1.2.0",
          "state": {
            "_model_module": "@jupyter-widgets/base",
            "_model_module_version": "1.2.0",
            "_model_name": "LayoutModel",
            "_view_count": null,
            "_view_module": "@jupyter-widgets/base",
            "_view_module_version": "1.2.0",
            "_view_name": "LayoutView",
            "align_content": null,
            "align_items": null,
            "align_self": null,
            "border": null,
            "bottom": null,
            "display": null,
            "flex": null,
            "flex_flow": null,
            "grid_area": null,
            "grid_auto_columns": null,
            "grid_auto_flow": null,
            "grid_auto_rows": null,
            "grid_column": null,
            "grid_gap": null,
            "grid_row": null,
            "grid_template_areas": null,
            "grid_template_columns": null,
            "grid_template_rows": null,
            "height": null,
            "justify_content": null,
            "justify_items": null,
            "left": null,
            "margin": null,
            "max_height": null,
            "max_width": null,
            "min_height": null,
            "min_width": null,
            "object_fit": null,
            "object_position": null,
            "order": null,
            "overflow": null,
            "overflow_x": null,
            "overflow_y": null,
            "padding": null,
            "right": null,
            "top": null,
            "visibility": null,
            "width": null
          }
        },
        "3b42f22cb14d4586b666c97a8d695d45": {
          "model_module": "@jupyter-widgets/base",
          "model_name": "LayoutModel",
          "model_module_version": "1.2.0",
          "state": {
            "_model_module": "@jupyter-widgets/base",
            "_model_module_version": "1.2.0",
            "_model_name": "LayoutModel",
            "_view_count": null,
            "_view_module": "@jupyter-widgets/base",
            "_view_module_version": "1.2.0",
            "_view_name": "LayoutView",
            "align_content": null,
            "align_items": null,
            "align_self": null,
            "border": null,
            "bottom": null,
            "display": null,
            "flex": null,
            "flex_flow": null,
            "grid_area": null,
            "grid_auto_columns": null,
            "grid_auto_flow": null,
            "grid_auto_rows": null,
            "grid_column": null,
            "grid_gap": null,
            "grid_row": null,
            "grid_template_areas": null,
            "grid_template_columns": null,
            "grid_template_rows": null,
            "height": null,
            "justify_content": null,
            "justify_items": null,
            "left": null,
            "margin": null,
            "max_height": null,
            "max_width": null,
            "min_height": null,
            "min_width": null,
            "object_fit": null,
            "object_position": null,
            "order": null,
            "overflow": null,
            "overflow_x": null,
            "overflow_y": null,
            "padding": null,
            "right": null,
            "top": null,
            "visibility": null,
            "width": null
          }
        },
        "ecafbedfd077439795b62cd8dfe2a281": {
          "model_module": "@jupyter-widgets/controls",
          "model_name": "DescriptionStyleModel",
          "model_module_version": "1.5.0",
          "state": {
            "_model_module": "@jupyter-widgets/controls",
            "_model_module_version": "1.5.0",
            "_model_name": "DescriptionStyleModel",
            "_view_count": null,
            "_view_module": "@jupyter-widgets/base",
            "_view_module_version": "1.2.0",
            "_view_name": "StyleView",
            "description_width": ""
          }
        },
        "d0590c96757542fcb335b4ca687b48fa": {
          "model_module": "@jupyter-widgets/base",
          "model_name": "LayoutModel",
          "model_module_version": "1.2.0",
          "state": {
            "_model_module": "@jupyter-widgets/base",
            "_model_module_version": "1.2.0",
            "_model_name": "LayoutModel",
            "_view_count": null,
            "_view_module": "@jupyter-widgets/base",
            "_view_module_version": "1.2.0",
            "_view_name": "LayoutView",
            "align_content": null,
            "align_items": null,
            "align_self": null,
            "border": null,
            "bottom": null,
            "display": null,
            "flex": null,
            "flex_flow": null,
            "grid_area": null,
            "grid_auto_columns": null,
            "grid_auto_flow": null,
            "grid_auto_rows": null,
            "grid_column": null,
            "grid_gap": null,
            "grid_row": null,
            "grid_template_areas": null,
            "grid_template_columns": null,
            "grid_template_rows": null,
            "height": null,
            "justify_content": null,
            "justify_items": null,
            "left": null,
            "margin": null,
            "max_height": null,
            "max_width": null,
            "min_height": null,
            "min_width": null,
            "object_fit": null,
            "object_position": null,
            "order": null,
            "overflow": null,
            "overflow_x": null,
            "overflow_y": null,
            "padding": null,
            "right": null,
            "top": null,
            "visibility": null,
            "width": null
          }
        },
        "8542831028c74dc1bbfb8e4315a925fc": {
          "model_module": "@jupyter-widgets/controls",
          "model_name": "ProgressStyleModel",
          "model_module_version": "1.5.0",
          "state": {
            "_model_module": "@jupyter-widgets/controls",
            "_model_module_version": "1.5.0",
            "_model_name": "ProgressStyleModel",
            "_view_count": null,
            "_view_module": "@jupyter-widgets/base",
            "_view_module_version": "1.2.0",
            "_view_name": "StyleView",
            "bar_color": null,
            "description_width": ""
          }
        },
        "ea6f13bd569c4f9f9d35057a757e0d9f": {
          "model_module": "@jupyter-widgets/base",
          "model_name": "LayoutModel",
          "model_module_version": "1.2.0",
          "state": {
            "_model_module": "@jupyter-widgets/base",
            "_model_module_version": "1.2.0",
            "_model_name": "LayoutModel",
            "_view_count": null,
            "_view_module": "@jupyter-widgets/base",
            "_view_module_version": "1.2.0",
            "_view_name": "LayoutView",
            "align_content": null,
            "align_items": null,
            "align_self": null,
            "border": null,
            "bottom": null,
            "display": null,
            "flex": null,
            "flex_flow": null,
            "grid_area": null,
            "grid_auto_columns": null,
            "grid_auto_flow": null,
            "grid_auto_rows": null,
            "grid_column": null,
            "grid_gap": null,
            "grid_row": null,
            "grid_template_areas": null,
            "grid_template_columns": null,
            "grid_template_rows": null,
            "height": null,
            "justify_content": null,
            "justify_items": null,
            "left": null,
            "margin": null,
            "max_height": null,
            "max_width": null,
            "min_height": null,
            "min_width": null,
            "object_fit": null,
            "object_position": null,
            "order": null,
            "overflow": null,
            "overflow_x": null,
            "overflow_y": null,
            "padding": null,
            "right": null,
            "top": null,
            "visibility": null,
            "width": null
          }
        },
        "b0242f1d0d2c413d9202b4dd645e43c9": {
          "model_module": "@jupyter-widgets/controls",
          "model_name": "DescriptionStyleModel",
          "model_module_version": "1.5.0",
          "state": {
            "_model_module": "@jupyter-widgets/controls",
            "_model_module_version": "1.5.0",
            "_model_name": "DescriptionStyleModel",
            "_view_count": null,
            "_view_module": "@jupyter-widgets/base",
            "_view_module_version": "1.2.0",
            "_view_name": "StyleView",
            "description_width": ""
          }
        },
        "4dbea00dd47e44a09097083304862bfd": {
          "model_module": "@jupyter-widgets/controls",
          "model_name": "HBoxModel",
          "model_module_version": "1.5.0",
          "state": {
            "_dom_classes": [],
            "_model_module": "@jupyter-widgets/controls",
            "_model_module_version": "1.5.0",
            "_model_name": "HBoxModel",
            "_view_count": null,
            "_view_module": "@jupyter-widgets/controls",
            "_view_module_version": "1.5.0",
            "_view_name": "HBoxView",
            "box_style": "",
            "children": [
              "IPY_MODEL_bcd2cd4d8cc34af5936fc2e7a3537dc3",
              "IPY_MODEL_cfce9e06a1234f09a33be72aac2a4203",
              "IPY_MODEL_62f093c3793e4e1980d3abd406b8e0d6"
            ],
            "layout": "IPY_MODEL_a74a22a54620403a9f2a23ae492f5bfc"
          }
        },
        "bcd2cd4d8cc34af5936fc2e7a3537dc3": {
          "model_module": "@jupyter-widgets/controls",
          "model_name": "HTMLModel",
          "model_module_version": "1.5.0",
          "state": {
            "_dom_classes": [],
            "_model_module": "@jupyter-widgets/controls",
            "_model_module_version": "1.5.0",
            "_model_name": "HTMLModel",
            "_view_count": null,
            "_view_module": "@jupyter-widgets/controls",
            "_view_module_version": "1.5.0",
            "_view_name": "HTMLView",
            "description": "",
            "description_tooltip": null,
            "layout": "IPY_MODEL_03769476639f4546b2b7001d511e16fe",
            "placeholder": "​",
            "style": "IPY_MODEL_8afc49dd616246b7b2746e7370d678c6",
            "value": "100%"
          }
        },
        "cfce9e06a1234f09a33be72aac2a4203": {
          "model_module": "@jupyter-widgets/controls",
          "model_name": "FloatProgressModel",
          "model_module_version": "1.5.0",
          "state": {
            "_dom_classes": [],
            "_model_module": "@jupyter-widgets/controls",
            "_model_module_version": "1.5.0",
            "_model_name": "FloatProgressModel",
            "_view_count": null,
            "_view_module": "@jupyter-widgets/controls",
            "_view_module_version": "1.5.0",
            "_view_name": "ProgressView",
            "bar_style": "success",
            "description": "",
            "description_tooltip": null,
            "layout": "IPY_MODEL_954a32bad1174f45b450c596be9c201a",
            "max": 5148,
            "min": 0,
            "orientation": "horizontal",
            "style": "IPY_MODEL_402911a30d2e4e1a81e671f784b230b6",
            "value": 5148
          }
        },
        "62f093c3793e4e1980d3abd406b8e0d6": {
          "model_module": "@jupyter-widgets/controls",
          "model_name": "HTMLModel",
          "model_module_version": "1.5.0",
          "state": {
            "_dom_classes": [],
            "_model_module": "@jupyter-widgets/controls",
            "_model_module_version": "1.5.0",
            "_model_name": "HTMLModel",
            "_view_count": null,
            "_view_module": "@jupyter-widgets/controls",
            "_view_module_version": "1.5.0",
            "_view_name": "HTMLView",
            "description": "",
            "description_tooltip": null,
            "layout": "IPY_MODEL_94df13d59da445828fd41c81c29f152d",
            "placeholder": "​",
            "style": "IPY_MODEL_2305942bf722483c968c2f0fcc8dea42",
            "value": " 5148/5148 [00:00&lt;00:00, 156182.84it/s]"
          }
        },
        "a74a22a54620403a9f2a23ae492f5bfc": {
          "model_module": "@jupyter-widgets/base",
          "model_name": "LayoutModel",
          "model_module_version": "1.2.0",
          "state": {
            "_model_module": "@jupyter-widgets/base",
            "_model_module_version": "1.2.0",
            "_model_name": "LayoutModel",
            "_view_count": null,
            "_view_module": "@jupyter-widgets/base",
            "_view_module_version": "1.2.0",
            "_view_name": "LayoutView",
            "align_content": null,
            "align_items": null,
            "align_self": null,
            "border": null,
            "bottom": null,
            "display": null,
            "flex": null,
            "flex_flow": null,
            "grid_area": null,
            "grid_auto_columns": null,
            "grid_auto_flow": null,
            "grid_auto_rows": null,
            "grid_column": null,
            "grid_gap": null,
            "grid_row": null,
            "grid_template_areas": null,
            "grid_template_columns": null,
            "grid_template_rows": null,
            "height": null,
            "justify_content": null,
            "justify_items": null,
            "left": null,
            "margin": null,
            "max_height": null,
            "max_width": null,
            "min_height": null,
            "min_width": null,
            "object_fit": null,
            "object_position": null,
            "order": null,
            "overflow": null,
            "overflow_x": null,
            "overflow_y": null,
            "padding": null,
            "right": null,
            "top": null,
            "visibility": null,
            "width": null
          }
        },
        "03769476639f4546b2b7001d511e16fe": {
          "model_module": "@jupyter-widgets/base",
          "model_name": "LayoutModel",
          "model_module_version": "1.2.0",
          "state": {
            "_model_module": "@jupyter-widgets/base",
            "_model_module_version": "1.2.0",
            "_model_name": "LayoutModel",
            "_view_count": null,
            "_view_module": "@jupyter-widgets/base",
            "_view_module_version": "1.2.0",
            "_view_name": "LayoutView",
            "align_content": null,
            "align_items": null,
            "align_self": null,
            "border": null,
            "bottom": null,
            "display": null,
            "flex": null,
            "flex_flow": null,
            "grid_area": null,
            "grid_auto_columns": null,
            "grid_auto_flow": null,
            "grid_auto_rows": null,
            "grid_column": null,
            "grid_gap": null,
            "grid_row": null,
            "grid_template_areas": null,
            "grid_template_columns": null,
            "grid_template_rows": null,
            "height": null,
            "justify_content": null,
            "justify_items": null,
            "left": null,
            "margin": null,
            "max_height": null,
            "max_width": null,
            "min_height": null,
            "min_width": null,
            "object_fit": null,
            "object_position": null,
            "order": null,
            "overflow": null,
            "overflow_x": null,
            "overflow_y": null,
            "padding": null,
            "right": null,
            "top": null,
            "visibility": null,
            "width": null
          }
        },
        "8afc49dd616246b7b2746e7370d678c6": {
          "model_module": "@jupyter-widgets/controls",
          "model_name": "DescriptionStyleModel",
          "model_module_version": "1.5.0",
          "state": {
            "_model_module": "@jupyter-widgets/controls",
            "_model_module_version": "1.5.0",
            "_model_name": "DescriptionStyleModel",
            "_view_count": null,
            "_view_module": "@jupyter-widgets/base",
            "_view_module_version": "1.2.0",
            "_view_name": "StyleView",
            "description_width": ""
          }
        },
        "954a32bad1174f45b450c596be9c201a": {
          "model_module": "@jupyter-widgets/base",
          "model_name": "LayoutModel",
          "model_module_version": "1.2.0",
          "state": {
            "_model_module": "@jupyter-widgets/base",
            "_model_module_version": "1.2.0",
            "_model_name": "LayoutModel",
            "_view_count": null,
            "_view_module": "@jupyter-widgets/base",
            "_view_module_version": "1.2.0",
            "_view_name": "LayoutView",
            "align_content": null,
            "align_items": null,
            "align_self": null,
            "border": null,
            "bottom": null,
            "display": null,
            "flex": null,
            "flex_flow": null,
            "grid_area": null,
            "grid_auto_columns": null,
            "grid_auto_flow": null,
            "grid_auto_rows": null,
            "grid_column": null,
            "grid_gap": null,
            "grid_row": null,
            "grid_template_areas": null,
            "grid_template_columns": null,
            "grid_template_rows": null,
            "height": null,
            "justify_content": null,
            "justify_items": null,
            "left": null,
            "margin": null,
            "max_height": null,
            "max_width": null,
            "min_height": null,
            "min_width": null,
            "object_fit": null,
            "object_position": null,
            "order": null,
            "overflow": null,
            "overflow_x": null,
            "overflow_y": null,
            "padding": null,
            "right": null,
            "top": null,
            "visibility": null,
            "width": null
          }
        },
        "402911a30d2e4e1a81e671f784b230b6": {
          "model_module": "@jupyter-widgets/controls",
          "model_name": "ProgressStyleModel",
          "model_module_version": "1.5.0",
          "state": {
            "_model_module": "@jupyter-widgets/controls",
            "_model_module_version": "1.5.0",
            "_model_name": "ProgressStyleModel",
            "_view_count": null,
            "_view_module": "@jupyter-widgets/base",
            "_view_module_version": "1.2.0",
            "_view_name": "StyleView",
            "bar_color": null,
            "description_width": ""
          }
        },
        "94df13d59da445828fd41c81c29f152d": {
          "model_module": "@jupyter-widgets/base",
          "model_name": "LayoutModel",
          "model_module_version": "1.2.0",
          "state": {
            "_model_module": "@jupyter-widgets/base",
            "_model_module_version": "1.2.0",
            "_model_name": "LayoutModel",
            "_view_count": null,
            "_view_module": "@jupyter-widgets/base",
            "_view_module_version": "1.2.0",
            "_view_name": "LayoutView",
            "align_content": null,
            "align_items": null,
            "align_self": null,
            "border": null,
            "bottom": null,
            "display": null,
            "flex": null,
            "flex_flow": null,
            "grid_area": null,
            "grid_auto_columns": null,
            "grid_auto_flow": null,
            "grid_auto_rows": null,
            "grid_column": null,
            "grid_gap": null,
            "grid_row": null,
            "grid_template_areas": null,
            "grid_template_columns": null,
            "grid_template_rows": null,
            "height": null,
            "justify_content": null,
            "justify_items": null,
            "left": null,
            "margin": null,
            "max_height": null,
            "max_width": null,
            "min_height": null,
            "min_width": null,
            "object_fit": null,
            "object_position": null,
            "order": null,
            "overflow": null,
            "overflow_x": null,
            "overflow_y": null,
            "padding": null,
            "right": null,
            "top": null,
            "visibility": null,
            "width": null
          }
        },
        "2305942bf722483c968c2f0fcc8dea42": {
          "model_module": "@jupyter-widgets/controls",
          "model_name": "DescriptionStyleModel",
          "model_module_version": "1.5.0",
          "state": {
            "_model_module": "@jupyter-widgets/controls",
            "_model_module_version": "1.5.0",
            "_model_name": "DescriptionStyleModel",
            "_view_count": null,
            "_view_module": "@jupyter-widgets/base",
            "_view_module_version": "1.2.0",
            "_view_name": "StyleView",
            "description_width": ""
          }
        },
        "1965974efbe045c990ea0f79485267da": {
          "model_module": "@jupyter-widgets/controls",
          "model_name": "VBoxModel",
          "model_module_version": "1.5.0",
          "state": {
            "_dom_classes": [
              "widget-interact"
            ],
            "_model_module": "@jupyter-widgets/controls",
            "_model_module_version": "1.5.0",
            "_model_name": "VBoxModel",
            "_view_count": null,
            "_view_module": "@jupyter-widgets/controls",
            "_view_module_version": "1.5.0",
            "_view_name": "VBoxView",
            "box_style": "",
            "children": [
              "IPY_MODEL_035a281872d1489c80ceb55a92f3096f",
              "IPY_MODEL_bfe2e2fdc4b84852b6fd439816a41c12"
            ],
            "layout": "IPY_MODEL_1c6c9ff3700a424fbb82d995c88da00a"
          }
        },
        "035a281872d1489c80ceb55a92f3096f": {
          "model_module": "@jupyter-widgets/controls",
          "model_name": "IntSliderModel",
          "model_module_version": "1.5.0",
          "state": {
            "_dom_classes": [],
            "_model_module": "@jupyter-widgets/controls",
            "_model_module_version": "1.5.0",
            "_model_name": "IntSliderModel",
            "_view_count": null,
            "_view_module": "@jupyter-widgets/controls",
            "_view_module_version": "1.5.0",
            "_view_name": "IntSliderView",
            "continuous_update": true,
            "description": "Image index",
            "description_tooltip": null,
            "disabled": false,
            "layout": "IPY_MODEL_c9051bf6866e4471a025d00e006c1a53",
            "max": 9999,
            "min": 0,
            "orientation": "horizontal",
            "readout": true,
            "readout_format": "d",
            "step": 1,
            "style": "IPY_MODEL_29f1f198ad1141b09d69ae92c0d7d7bc",
            "value": 3496
          }
        },
        "bfe2e2fdc4b84852b6fd439816a41c12": {
          "model_module": "@jupyter-widgets/output",
          "model_name": "OutputModel",
          "model_module_version": "1.0.0",
          "state": {
            "_dom_classes": [],
            "_model_module": "@jupyter-widgets/output",
            "_model_module_version": "1.0.0",
            "_model_name": "OutputModel",
            "_view_count": null,
            "_view_module": "@jupyter-widgets/output",
            "_view_module_version": "1.0.0",
            "_view_name": "OutputView",
            "layout": "IPY_MODEL_1ca3d87b0b7d46a8b899a02f5c7f02c8",
            "msg_id": "",
            "outputs": [
              {
                "output_type": "display_data",
                "data": {
                  "text/plain": "<Figure size 864x432 with 2 Axes>",
                  "image/png": "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\n"
                },
                "metadata": {
                  "needs_background": "light"
                }
              }
            ]
          }
        },
        "1c6c9ff3700a424fbb82d995c88da00a": {
          "model_module": "@jupyter-widgets/base",
          "model_name": "LayoutModel",
          "model_module_version": "1.2.0",
          "state": {
            "_model_module": "@jupyter-widgets/base",
            "_model_module_version": "1.2.0",
            "_model_name": "LayoutModel",
            "_view_count": null,
            "_view_module": "@jupyter-widgets/base",
            "_view_module_version": "1.2.0",
            "_view_name": "LayoutView",
            "align_content": null,
            "align_items": null,
            "align_self": null,
            "border": null,
            "bottom": null,
            "display": null,
            "flex": null,
            "flex_flow": null,
            "grid_area": null,
            "grid_auto_columns": null,
            "grid_auto_flow": null,
            "grid_auto_rows": null,
            "grid_column": null,
            "grid_gap": null,
            "grid_row": null,
            "grid_template_areas": null,
            "grid_template_columns": null,
            "grid_template_rows": null,
            "height": null,
            "justify_content": null,
            "justify_items": null,
            "left": null,
            "margin": null,
            "max_height": null,
            "max_width": null,
            "min_height": null,
            "min_width": null,
            "object_fit": null,
            "object_position": null,
            "order": null,
            "overflow": null,
            "overflow_x": null,
            "overflow_y": null,
            "padding": null,
            "right": null,
            "top": null,
            "visibility": null,
            "width": null
          }
        },
        "c9051bf6866e4471a025d00e006c1a53": {
          "model_module": "@jupyter-widgets/base",
          "model_name": "LayoutModel",
          "model_module_version": "1.2.0",
          "state": {
            "_model_module": "@jupyter-widgets/base",
            "_model_module_version": "1.2.0",
            "_model_name": "LayoutModel",
            "_view_count": null,
            "_view_module": "@jupyter-widgets/base",
            "_view_module_version": "1.2.0",
            "_view_name": "LayoutView",
            "align_content": null,
            "align_items": null,
            "align_self": null,
            "border": null,
            "bottom": null,
            "display": null,
            "flex": null,
            "flex_flow": null,
            "grid_area": null,
            "grid_auto_columns": null,
            "grid_auto_flow": null,
            "grid_auto_rows": null,
            "grid_column": null,
            "grid_gap": null,
            "grid_row": null,
            "grid_template_areas": null,
            "grid_template_columns": null,
            "grid_template_rows": null,
            "height": null,
            "justify_content": null,
            "justify_items": null,
            "left": null,
            "margin": null,
            "max_height": null,
            "max_width": null,
            "min_height": null,
            "min_width": null,
            "object_fit": null,
            "object_position": null,
            "order": null,
            "overflow": null,
            "overflow_x": null,
            "overflow_y": null,
            "padding": null,
            "right": null,
            "top": null,
            "visibility": null,
            "width": "100%"
          }
        },
        "29f1f198ad1141b09d69ae92c0d7d7bc": {
          "model_module": "@jupyter-widgets/controls",
          "model_name": "SliderStyleModel",
          "model_module_version": "1.5.0",
          "state": {
            "_model_module": "@jupyter-widgets/controls",
            "_model_module_version": "1.5.0",
            "_model_name": "SliderStyleModel",
            "_view_count": null,
            "_view_module": "@jupyter-widgets/base",
            "_view_module_version": "1.2.0",
            "_view_name": "StyleView",
            "description_width": "",
            "handle_color": null
          }
        },
        "1ca3d87b0b7d46a8b899a02f5c7f02c8": {
          "model_module": "@jupyter-widgets/base",
          "model_name": "LayoutModel",
          "model_module_version": "1.2.0",
          "state": {
            "_model_module": "@jupyter-widgets/base",
            "_model_module_version": "1.2.0",
            "_model_name": "LayoutModel",
            "_view_count": null,
            "_view_module": "@jupyter-widgets/base",
            "_view_module_version": "1.2.0",
            "_view_name": "LayoutView",
            "align_content": null,
            "align_items": null,
            "align_self": null,
            "border": null,
            "bottom": null,
            "display": null,
            "flex": null,
            "flex_flow": null,
            "grid_area": null,
            "grid_auto_columns": null,
            "grid_auto_flow": null,
            "grid_auto_rows": null,
            "grid_column": null,
            "grid_gap": null,
            "grid_row": null,
            "grid_template_areas": null,
            "grid_template_columns": null,
            "grid_template_rows": null,
            "height": null,
            "justify_content": null,
            "justify_items": null,
            "left": null,
            "margin": null,
            "max_height": null,
            "max_width": null,
            "min_height": null,
            "min_width": null,
            "object_fit": null,
            "object_position": null,
            "order": null,
            "overflow": null,
            "overflow_x": null,
            "overflow_y": null,
            "padding": null,
            "right": null,
            "top": null,
            "visibility": null,
            "width": null
          }
        }
      }
    },
    "accelerator": "GPU"
  },
  "cells": [
    {
      "cell_type": "markdown",
      "metadata": {
        "id": "view-in-github",
        "colab_type": "text"
      },
      "source": [
        "<a href=\"https://colab.research.google.com/github/marcomedugno/marcomedugno/blob/main/Classifying_Images_with_Neural_Network.ipynb\" target=\"_parent\"><img src=\"https://colab.research.google.com/assets/colab-badge.svg\" alt=\"Open In Colab\"/></a>"
      ]
    },
    {
      "cell_type": "markdown",
      "source": [
        "# Predict Dress Types - PyTorch\n",
        "Design and train a basic neural network on the FashionMNIST dataset\n",
        "\n",
        "## Marco Medugno\n"
      ],
      "metadata": {
        "id": "VuYdIBFxcljg"
      }
    },
    {
      "cell_type": "code",
      "execution_count": null,
      "metadata": {
        "id": "RxlYZjLoVuKY"
      },
      "outputs": [],
      "source": [
        "# import the necessary libraries\n",
        "import math\n",
        "import torch\n",
        "from torch.utils.data import DataLoader #Dataset\n",
        "from torchvision import datasets\n",
        "from torchvision.transforms import Compose, ToTensor\n",
        "from torch import nn, optim\n",
        "import matplotlib.pyplot as plt\n",
        "from ipywidgets import widgets, interact, Layout"
      ]
    },
    {
      "cell_type": "code",
      "source": [
        "# displays output inline\n",
        "%matplotlib inline"
      ],
      "metadata": {
        "id": "y8vhK6POdMiN"
      },
      "execution_count": null,
      "outputs": []
    },
    {
      "cell_type": "code",
      "source": [
        "# train model on a hardware accelerator like the GPU if it is available, otherwise continue to use the CPU\n",
        "for index in range(torch.cuda.device_count()):\n",
        "  print(torch.cuda.get_device_properties(index))"
      ],
      "metadata": {
        "id": "SAKjWC_coRPL",
        "colab": {
          "base_uri": "https://localhost:8080/"
        },
        "outputId": "08d8ce8d-ba1d-46f3-981b-0f715a8e0bf7"
      },
      "execution_count": null,
      "outputs": [
        {
          "output_type": "stream",
          "name": "stdout",
          "text": [
            "_CudaDeviceProperties(name='Tesla T4', major=7, minor=5, total_memory=15109MB, multi_processor_count=40)\n"
          ]
        }
      ]
    },
    {
      "cell_type": "markdown",
      "source": [
        "# Data Preprocessing"
      ],
      "metadata": {
        "id": "yqqMTXbWfJUy"
      }
    },
    {
      "cell_type": "code",
      "source": [
        "# use FashionMNIST dataset published by Zalando Research\n",
        "data_train = datasets.FashionMNIST(root='data', train=True, download=True, transform=ToTensor()) # =Compose([ToTensor()])\n",
        "data_test = datasets.FashionMNIST(root='data', train=False, download=True, transform=ToTensor()) # =Compose([ToTensor()])\n",
        "batch = 85\n",
        "load_train = DataLoader(data_train, batch_size=batch, shuffle=True)\n",
        "load_test = DataLoader(data_test, batch_size=batch, shuffle=True)"
      ],
      "metadata": {
        "id": "-OKMvQL8ZPAz",
        "colab": {
          "base_uri": "https://localhost:8080/",
          "height": 455,
          "referenced_widgets": [
            "eabe1ab33a1e44d1af5cdf50bcda1fd8",
            "a8148b1697364f12915e1871c7ef80a8",
            "cee7f392c7bd4409af932a71f8ab55f2",
            "4cd80964e7804f489e26fd87ef417b0a",
            "6a3fcbf9980444a191a99d335eec337e",
            "baa5301bf4434c0f83886217ec235431",
            "0b99a39ca81d43378086c4eaa213932d",
            "a001bf72382c4b8194d4763c0bd9daf5",
            "435ede99545b42718230308d452f733c",
            "91f5da6f37af4b42b8a99fd00d10391c",
            "1afa99f3079f4cad87c7fe7fce639770",
            "47e0f05423094667ac2532377dc614ae",
            "21a0c4d995064677afbffd0ebbc36a08",
            "683c442b1bbc42c497ce43d00609de62",
            "36d949d86db84646a5af680f994a0185",
            "1d449a51b33247ac8da92b32ea01be72",
            "274c3155cd494d8da25096a7673ee36f",
            "e481348233f9451e9155d220b002107a",
            "7ff97eac00b44688afe91cd40446b3f0",
            "41a041d25de54a829491f2a4aa51e298",
            "97d10c36fda84a948d95aaa7f1dd37a2",
            "c10e22676c2841ab84945bace6f68475",
            "e2e6378e6d7249bdb8cfa58cf9dfd808",
            "e2da5f7ece254f2eb122d4796ee66f0b",
            "abecbe982ce1423bb21586597308b34c",
            "6a3fd641a9154cc1b09c7122d469e096",
            "ab9011529c974151baa7c22895070cdd",
            "3b42f22cb14d4586b666c97a8d695d45",
            "ecafbedfd077439795b62cd8dfe2a281",
            "d0590c96757542fcb335b4ca687b48fa",
            "8542831028c74dc1bbfb8e4315a925fc",
            "ea6f13bd569c4f9f9d35057a757e0d9f",
            "b0242f1d0d2c413d9202b4dd645e43c9",
            "4dbea00dd47e44a09097083304862bfd",
            "bcd2cd4d8cc34af5936fc2e7a3537dc3",
            "cfce9e06a1234f09a33be72aac2a4203",
            "62f093c3793e4e1980d3abd406b8e0d6",
            "a74a22a54620403a9f2a23ae492f5bfc",
            "03769476639f4546b2b7001d511e16fe",
            "8afc49dd616246b7b2746e7370d678c6",
            "954a32bad1174f45b450c596be9c201a",
            "402911a30d2e4e1a81e671f784b230b6",
            "94df13d59da445828fd41c81c29f152d",
            "2305942bf722483c968c2f0fcc8dea42"
          ]
        },
        "outputId": "eb68f93e-afb8-4656-d571-0145e85eeb65"
      },
      "execution_count": null,
      "outputs": [
        {
          "output_type": "stream",
          "name": "stdout",
          "text": [
            "Downloading http://fashion-mnist.s3-website.eu-central-1.amazonaws.com/train-images-idx3-ubyte.gz\n",
            "Downloading http://fashion-mnist.s3-website.eu-central-1.amazonaws.com/train-images-idx3-ubyte.gz to data/FashionMNIST/raw/train-images-idx3-ubyte.gz\n"
          ]
        },
        {
          "output_type": "display_data",
          "data": {
            "text/plain": [
              "  0%|          | 0/26421880 [00:00<?, ?it/s]"
            ],
            "application/vnd.jupyter.widget-view+json": {
              "version_major": 2,
              "version_minor": 0,
              "model_id": "eabe1ab33a1e44d1af5cdf50bcda1fd8"
            }
          },
          "metadata": {}
        },
        {
          "output_type": "stream",
          "name": "stdout",
          "text": [
            "Extracting data/FashionMNIST/raw/train-images-idx3-ubyte.gz to data/FashionMNIST/raw\n",
            "\n",
            "Downloading http://fashion-mnist.s3-website.eu-central-1.amazonaws.com/train-labels-idx1-ubyte.gz\n",
            "Downloading http://fashion-mnist.s3-website.eu-central-1.amazonaws.com/train-labels-idx1-ubyte.gz to data/FashionMNIST/raw/train-labels-idx1-ubyte.gz\n"
          ]
        },
        {
          "output_type": "display_data",
          "data": {
            "text/plain": [
              "  0%|          | 0/29515 [00:00<?, ?it/s]"
            ],
            "application/vnd.jupyter.widget-view+json": {
              "version_major": 2,
              "version_minor": 0,
              "model_id": "47e0f05423094667ac2532377dc614ae"
            }
          },
          "metadata": {}
        },
        {
          "output_type": "stream",
          "name": "stdout",
          "text": [
            "Extracting data/FashionMNIST/raw/train-labels-idx1-ubyte.gz to data/FashionMNIST/raw\n",
            "\n",
            "Downloading http://fashion-mnist.s3-website.eu-central-1.amazonaws.com/t10k-images-idx3-ubyte.gz\n",
            "Downloading http://fashion-mnist.s3-website.eu-central-1.amazonaws.com/t10k-images-idx3-ubyte.gz to data/FashionMNIST/raw/t10k-images-idx3-ubyte.gz\n"
          ]
        },
        {
          "output_type": "display_data",
          "data": {
            "text/plain": [
              "  0%|          | 0/4422102 [00:00<?, ?it/s]"
            ],
            "application/vnd.jupyter.widget-view+json": {
              "version_major": 2,
              "version_minor": 0,
              "model_id": "e2e6378e6d7249bdb8cfa58cf9dfd808"
            }
          },
          "metadata": {}
        },
        {
          "output_type": "stream",
          "name": "stdout",
          "text": [
            "Extracting data/FashionMNIST/raw/t10k-images-idx3-ubyte.gz to data/FashionMNIST/raw\n",
            "\n",
            "Downloading http://fashion-mnist.s3-website.eu-central-1.amazonaws.com/t10k-labels-idx1-ubyte.gz\n",
            "Downloading http://fashion-mnist.s3-website.eu-central-1.amazonaws.com/t10k-labels-idx1-ubyte.gz to data/FashionMNIST/raw/t10k-labels-idx1-ubyte.gz\n"
          ]
        },
        {
          "output_type": "display_data",
          "data": {
            "text/plain": [
              "  0%|          | 0/5148 [00:00<?, ?it/s]"
            ],
            "application/vnd.jupyter.widget-view+json": {
              "version_major": 2,
              "version_minor": 0,
              "model_id": "4dbea00dd47e44a09097083304862bfd"
            }
          },
          "metadata": {}
        },
        {
          "output_type": "stream",
          "name": "stdout",
          "text": [
            "Extracting data/FashionMNIST/raw/t10k-labels-idx1-ubyte.gz to data/FashionMNIST/raw\n",
            "\n"
          ]
        }
      ]
    },
    {
      "cell_type": "code",
      "source": [
        "# 60,000 training images, each image is a grayscale image with size 28x28 pixels\n",
        "# 10,000 testing images, each image is a grayscale image with size 28x28 pixels\n",
        "data_train.data.shape, data_train.targets.shape, data_train.targets.bincount(), data_test.data.shape, data_test.targets.shape, data_test.targets.bincount()"
      ],
      "metadata": {
        "colab": {
          "base_uri": "https://localhost:8080/"
        },
        "id": "Huo1DgYHZmEs",
        "outputId": "6ded08d0-edc9-4fdb-f5e7-c6417fa8788e"
      },
      "execution_count": null,
      "outputs": [
        {
          "output_type": "execute_result",
          "data": {
            "text/plain": [
              "(torch.Size([60000, 28, 28]),\n",
              " torch.Size([60000]),\n",
              " tensor([6000, 6000, 6000, 6000, 6000, 6000, 6000, 6000, 6000, 6000]),\n",
              " torch.Size([10000, 28, 28]),\n",
              " torch.Size([10000]),\n",
              " tensor([1000, 1000, 1000, 1000, 1000, 1000, 1000, 1000, 1000, 1000]))"
            ]
          },
          "metadata": {},
          "execution_count": 5
        }
      ]
    },
    {
      "cell_type": "code",
      "source": [
        "# ten categories from 0 to 9\n",
        "data_train.classes, data_test.classes"
      ],
      "metadata": {
        "colab": {
          "base_uri": "https://localhost:8080/"
        },
        "id": "TbMB1jCuNIfy",
        "outputId": "45be37d3-347c-4fa6-8f81-0ce35ef7ce77"
      },
      "execution_count": null,
      "outputs": [
        {
          "output_type": "execute_result",
          "data": {
            "text/plain": [
              "(['T-shirt/top',\n",
              "  'Trouser',\n",
              "  'Pullover',\n",
              "  'Dress',\n",
              "  'Coat',\n",
              "  'Sandal',\n",
              "  'Shirt',\n",
              "  'Sneaker',\n",
              "  'Bag',\n",
              "  'Ankle boot'],\n",
              " ['T-shirt/top',\n",
              "  'Trouser',\n",
              "  'Pullover',\n",
              "  'Dress',\n",
              "  'Coat',\n",
              "  'Sandal',\n",
              "  'Shirt',\n",
              "  'Sneaker',\n",
              "  'Bag',\n",
              "  'Ankle boot'])"
            ]
          },
          "metadata": {},
          "execution_count": 6
        }
      ]
    },
    {
      "cell_type": "code",
      "source": [
        "# scale the values between 0 and 1 for both training and testing sets\n",
        "data_train.data = data_train.data / 255.0\n",
        "data_test.data = data_test.data / 255.0"
      ],
      "metadata": {
        "id": "2OwxA5Pr680v"
      },
      "execution_count": null,
      "outputs": []
    },
    {
      "cell_type": "markdown",
      "source": [
        "# Training Set"
      ],
      "metadata": {
        "id": "X0ylHGcLk3hE"
      }
    },
    {
      "cell_type": "code",
      "source": [
        "# plot a grid of images with titles of correct names and labels of predicted names\n",
        "def plot(images, labels, predictions=None):\n",
        "  # create a grid with 10 columns\n",
        "  n_cols = min(10, len(images))\n",
        "  n_rows = math.ceil(len(images) / n_cols)\n",
        "  fig, axes = plt.subplots(n_rows, n_cols, figsize=(n_cols + 3, n_rows))\n",
        "  if predictions is None:\n",
        "    predictions = [None] * len(labels)\n",
        "  for index, (x, y_true, y_pred) in enumerate(zip(images, labels, predictions)):\n",
        "    ax = axes.flat[index]\n",
        "    ax.imshow(x, cmap=plt.cm.binary)\n",
        "    ax.set_title(data_train.classes[y_true])\n",
        "    if y_pred is not None:\n",
        "      ax.set_xlabel(data_train.classes[y_pred])\n",
        "    ax.set_xticks([])\n",
        "    ax.set_yticks([])\n",
        "# plot first 20 images\n",
        "plot(data_train.data[:20], data_train.targets[:20])"
      ],
      "metadata": {
        "colab": {
          "base_uri": "https://localhost:8080/",
          "height": 159
        },
        "id": "fxif33i8axBb",
        "outputId": "6be5fade-fb92-4a74-f2d6-4d212619a531"
      },
      "execution_count": null,
      "outputs": [
        {
          "output_type": "display_data",
          "data": {
            "text/plain": [
              "<Figure size 936x144 with 20 Axes>"
            ],
            "image/png": "[encoded data removed]"
          },
          "metadata": {}
        }
      ]
    },
    {
      "cell_type": "markdown",
      "source": [
        "# Model in PyTorch"
      ],
      "metadata": {
        "id": "2M7luzSclfeA"
      }
    },
    {
      "cell_type": "code",
      "source": [
        "# create a sequential model of one hidden layer\n",
        "input_size = 28 * 28\n",
        "hidden_size = 128\n",
        "output_size = 10\n",
        "model = nn.Sequential(\n",
        "  nn.Linear(input_size, hidden_size), # apply linear transformation to hidden = input A^T + b\n",
        "  nn.ReLU(), # apply the rectified linear unit function element-wise\n",
        "  nn.Linear(hidden_size, output_size), # apply linear transformation to output = hidden A^T + b\n",
        "  nn.Softmax(dim=1)) # apply the dimensional output Tensor within the range [0,1] and sum to 1\n",
        "print(model)"
      ],
      "metadata": {
        "colab": {
          "base_uri": "https://localhost:8080/"
        },
        "id": "W41QohEpa6e-",
        "outputId": "677aa1f6-2cb0-446d-8946-48eb4713bc4f"
      },
      "execution_count": null,
      "outputs": [
        {
          "output_type": "stream",
          "name": "stdout",
          "text": [
            "Sequential(\n",
            "  (0): Linear(in_features=784, out_features=128, bias=True)\n",
            "  (1): ReLU()\n",
            "  (2): Linear(in_features=128, out_features=10, bias=True)\n",
            "  (3): Softmax(dim=1)\n",
            ")\n"
          ]
        }
      ]
    },
    {
      "cell_type": "code",
      "source": [
        "# train the model\n",
        "torch.manual_seed(20742)\n",
        "learning_rate = 0.001\n",
        "optimizer = optim.Adam(model.parameters(), lr=learning_rate) # implement Adam algorithm with learning rate\n",
        "error = nn.CrossEntropyLoss() # this criterion computes the cross entropy loss between input and target\n",
        "epochs = 40\n",
        "for epoch in range(epochs):\n",
        "  running_loss = 0\n",
        "  for images, labels in load_train:\n",
        "    train = images.view(images.shape[0], -1) # flatten image into a 784 vector\n",
        "    outputs = model(train)\n",
        "    loss = error(outputs, labels)\n",
        "    optimizer.zero_grad() # training pass\n",
        "    loss.backward() # learn by backpropagation\n",
        "    optimizer.step() # optimize weights\n",
        "    running_loss += loss.item()\n",
        "  else:\n",
        "    total = 0\n",
        "    correct = 0\n",
        "    for images, labels in load_train:\n",
        "      train = images.view(images.shape[0], -1) # flatten image into a 784 vector\n",
        "      outputs = model(train)\n",
        "      predictions = torch.max(outputs, 1)[1]\n",
        "      correct += (predictions == labels).sum()\n",
        "      total += len(labels)\n",
        "    print(f'Epoch {epoch + 1}/{epochs} - loss: {running_loss / total} - accuracy: {correct / total}')"
      ],
      "metadata": {
        "colab": {
          "base_uri": "https://localhost:8080/"
        },
        "id": "Vzi5hjYYA80Y",
        "outputId": "167123cc-fd1c-44ef-ace1-fdd1d59fa196"
      },
      "execution_count": null,
      "outputs": [
        {
          "output_type": "stream",
          "name": "stdout",
          "text": [
            "Epoch 1/40 - loss: 0.022156233934561412 - accuracy: 0.6565666794776917\n",
            "Epoch 2/40 - loss: 0.021215374128023785 - accuracy: 0.6781166791915894\n",
            "Epoch 3/40 - loss: 0.021045095147689184 - accuracy: 0.6722000241279602\n",
            "Epoch 4/40 - loss: 0.020961940421660743 - accuracy: 0.6906166672706604\n",
            "Epoch 5/40 - loss: 0.020882441620031993 - accuracy: 0.6930166482925415\n",
            "Epoch 6/40 - loss: 0.020818373948335647 - accuracy: 0.6962000131607056\n",
            "Epoch 7/40 - loss: 0.020773603133360546 - accuracy: 0.7055500149726868\n",
            "Epoch 8/40 - loss: 0.02073055657148361 - accuracy: 0.7100333571434021\n",
            "Epoch 9/40 - loss: 0.02067356443206469 - accuracy: 0.71506667137146\n",
            "Epoch 10/40 - loss: 0.02063447891076406 - accuracy: 0.7122166752815247\n",
            "Epoch 11/40 - loss: 0.02061901079018911 - accuracy: 0.7177333235740662\n",
            "Epoch 12/40 - loss: 0.020574819763501485 - accuracy: 0.7217666506767273\n",
            "Epoch 13/40 - loss: 0.02054117743174235 - accuracy: 0.7202333211898804\n",
            "Epoch 14/40 - loss: 0.020503079324960708 - accuracy: 0.720716655254364\n",
            "Epoch 15/40 - loss: 0.020482751365502674 - accuracy: 0.7305499911308289\n",
            "Epoch 16/40 - loss: 0.020446910496552784 - accuracy: 0.7313666939735413\n",
            "Epoch 17/40 - loss: 0.020422143600384395 - accuracy: 0.7353166937828064\n",
            "Epoch 18/40 - loss: 0.020399185689290365 - accuracy: 0.7253000140190125\n",
            "Epoch 19/40 - loss: 0.02036559669971466 - accuracy: 0.7350666522979736\n",
            "Epoch 20/40 - loss: 0.02033574773867925 - accuracy: 0.7349166870117188\n",
            "Epoch 21/40 - loss: 0.02031325958967209 - accuracy: 0.7425500154495239\n",
            "Epoch 22/40 - loss: 0.020290352654457094 - accuracy: 0.7461833357810974\n",
            "Epoch 23/40 - loss: 0.020265986088911694 - accuracy: 0.7458500266075134\n",
            "Epoch 24/40 - loss: 0.02024361754457156 - accuracy: 0.7488833069801331\n",
            "Epoch 25/40 - loss: 0.020225201600790024 - accuracy: 0.752216637134552\n",
            "Epoch 26/40 - loss: 0.02018892444372177 - accuracy: 0.7537166476249695\n",
            "Epoch 27/40 - loss: 0.020177477423350017 - accuracy: 0.7537500262260437\n",
            "Epoch 28/40 - loss: 0.02015346777836482 - accuracy: 0.754716694355011\n",
            "Epoch 29/40 - loss: 0.020151395682493845 - accuracy: 0.758816659450531\n",
            "Epoch 30/40 - loss: 0.02012330294450124 - accuracy: 0.7565833330154419\n",
            "Epoch 31/40 - loss: 0.020088589201370875 - accuracy: 0.7559833526611328\n",
            "Epoch 32/40 - loss: 0.02008041772246361 - accuracy: 0.7623999714851379\n",
            "Epoch 33/40 - loss: 0.020057341760396957 - accuracy: 0.7633000016212463\n",
            "Epoch 34/40 - loss: 0.0200521643559138 - accuracy: 0.7645000219345093\n",
            "Epoch 35/40 - loss: 0.02003104257186254 - accuracy: 0.7660666704177856\n",
            "Epoch 36/40 - loss: 0.02000656665166219 - accuracy: 0.7654666900634766\n",
            "Epoch 37/40 - loss: 0.019980384318033853 - accuracy: 0.7677333354949951\n",
            "Epoch 38/40 - loss: 0.019974185391267142 - accuracy: 0.7647833228111267\n",
            "Epoch 39/40 - loss: 0.019955246074994406 - accuracy: 0.7718833088874817\n",
            "Epoch 40/40 - loss: 0.019952301132678985 - accuracy: 0.7760000228881836\n"
          ]
        }
      ]
    },
    {
      "cell_type": "code",
      "source": [
        "# save the model\n",
        "torch.save(model, './Act6_Last_First_model.pt') "
      ],
      "metadata": {
        "id": "rkQMPNExE0aw"
      },
      "execution_count": null,
      "outputs": []
    },
    {
      "cell_type": "markdown",
      "source": [
        "# Testing Set"
      ],
      "metadata": {
        "id": "1Pz2Tuctln2L"
      }
    },
    {
      "cell_type": "code",
      "source": [
        "count = 0\n",
        "correct = 0\n",
        "for images, labels in load_test:\n",
        "  test = images.view(images.shape[0], -1) # flatten image into a 784 vector\n",
        "  with torch.no_grad():\n",
        "    probs = model(test)\n",
        "    preds = torch.max(probs, 1)[1]\n",
        "  correct += (preds == labels).sum()\n",
        "  count += len(labels)\n",
        "print(f'Tested {count} images - accuracy: {correct / count}')"
      ],
      "metadata": {
        "colab": {
          "base_uri": "https://localhost:8080/"
        },
        "id": "YYdfUYTGZ5d8",
        "outputId": "e7ba8dd0-ad8b-4cec-8363-3bfc570ef809"
      },
      "execution_count": null,
      "outputs": [
        {
          "output_type": "stream",
          "name": "stdout",
          "text": [
            "Tested 10000 images - accuracy: 0.6922000050544739\n"
          ]
        }
      ]
    },
    {
      "cell_type": "code",
      "source": [
        "count = 0\n",
        "correct = 0\n",
        "for image, label in data_test:\n",
        "  test = image.view(1, 784) # flatten image into a 784 vector\n",
        "  with torch.no_grad():\n",
        "    probs = model(test)\n",
        "    pred = probs.argmax(1)\n",
        "  if (pred == label):\n",
        "    correct += 1\n",
        "  count += 1\n",
        "print(f'Tested {count} images - accuracy: {correct / count}')"
      ],
      "metadata": {
        "colab": {
          "base_uri": "https://localhost:8080/"
        },
        "id": "wihUpJF7bucu",
        "outputId": "ad41961a-67b8-4d6a-aee5-2169a8fb1c10"
      },
      "execution_count": null,
      "outputs": [
        {
          "output_type": "stream",
          "name": "stdout",
          "text": [
            "Tested 10000 images - accuracy: 0.6922\n"
          ]
        }
      ]
    },
    {
      "cell_type": "markdown",
      "source": [
        "# Application"
      ],
      "metadata": {
        "id": "VHj5RPEzmoCT"
      }
    },
    {
      "cell_type": "code",
      "source": [
        "img_idx_slider = widgets.IntSlider(value=0, min=0, max=len(data_test) - 1, description='Image index', layout=Layout(width='100%'))\n",
        "@interact(index=img_idx_slider)\n",
        "def visualize_prediction(index=0):\n",
        "  image, label = data_test[index]\n",
        "  test = image.view(1, 28 * 28)\n",
        "  with torch.no_grad():\n",
        "    probs = model(test)\n",
        "  pred = probs.argmax(1).item()\n",
        "  fix, (ax1, ax2) = plt.subplots(1, 2, figsize=(12, 6))\n",
        "  ax1.imshow(data_test.data[index], cmap=plt.cm.binary)\n",
        "  ax1.set_title(f'Label: {data_test.classes[data_test.targets[index]]}')\n",
        "  ax1.set_xlabel(f'Predict: {data_test.classes[pred]}')\n",
        "  ax1.set_ylabel('Pixel location index')\n",
        "  ax1.set_xticks(range(28))\n",
        "  ax1.set_yticks(range(28))\n",
        "  ax1.xaxis.tick_top()\n",
        "  ax1.tick_params(axis='x', labelrotation=90)\n",
        "  ax2.bar(x=data_test.classes, height=probs[0]*100)\n",
        "  ax2.set_xlabel('Prediction')\n",
        "  ax2.set_ylabel('Probability (%)')\n",
        "  ax2.set_ylim(0, 100)\n",
        "  ax2.tick_params(axis='x', labelrotation=90)"
      ],
      "metadata": {
        "colab": {
          "base_uri": "https://localhost:8080/",
          "height": 488,
          "referenced_widgets": [
            "1965974efbe045c990ea0f79485267da",
            "035a281872d1489c80ceb55a92f3096f",
            "bfe2e2fdc4b84852b6fd439816a41c12",
            "1c6c9ff3700a424fbb82d995c88da00a",
            "c9051bf6866e4471a025d00e006c1a53",
            "29f1f198ad1141b09d69ae92c0d7d7bc",
            "1ca3d87b0b7d46a8b899a02f5c7f02c8"
          ]
        },
        "id": "CU5WlAFbr2-z",
        "outputId": "f6f2faea-af7f-4a53-aaf5-e1cc09ee0141"
      },
      "execution_count": null,
      "outputs": [
        {
          "output_type": "display_data",
          "data": {
            "text/plain": [
              "interactive(children=(IntSlider(value=0, description='Image index', layout=Layout(width='100%'), max=9999), Ou…"
            ],
            "application/vnd.jupyter.widget-view+json": {
              "version_major": 2,
              "version_minor": 0,
              "model_id": "1965974efbe045c990ea0f79485267da"
            }
          },
          "metadata": {}
        }
      ]
    }
  ]
}