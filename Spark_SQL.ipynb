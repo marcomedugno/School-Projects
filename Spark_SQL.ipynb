{
  "nbformat": 4,
  "nbformat_minor": 0,
  "metadata": {
    "colab": {
      "provenance": [],
      "collapsed_sections": [],
      "include_colab_link": true
    },
    "kernelspec": {
      "name": "python3",
      "display_name": "Python 3"
    },
    "language_info": {
      "name": "python"
    }
  },
  "cells": [
    {
      "cell_type": "markdown",
      "metadata": {
        "id": "view-in-github",
        "colab_type": "text"
      },
      "source": [
        "<a href=\"https://colab.research.google.com/github/marcomedugno/marcomedugno/blob/main/Spark_SQL.ipynb\" target=\"_parent\"><img src=\"https://colab.research.google.com/assets/colab-badge.svg\" alt=\"Open In Colab\"/></a>"
      ]
    },
    {
      "cell_type": "markdown",
      "source": [
        "# Spark SQL on Colab\n",
        "\n",
        "\n",
        "##Marco Medugno\n",
        "\n"
      ],
      "metadata": {
        "id": "bE-9Cxg7dA28"
      }
    },
    {
      "cell_type": "code",
      "execution_count": null,
      "metadata": {
        "id": "kXYsSzw6aeBE"
      },
      "outputs": [],
      "source": [
        "# install Java Virtual Machine (JVM) from OpenJDK\n",
        "!apt-get install openjdk-8-jdk-headless -qq > /dev/null"
      ]
    },
    {
      "cell_type": "code",
      "source": [
        "# download and decompress Apache Spark with Hadoop from https://spark.apache.org/downloads.html\n",
        "!wget -q https://dlcdn.apache.org/spark/spark-3.2.1/spark-3.2.1-bin-hadoop3.2.tgz\n",
        "!tar xf spark-3.2.1-bin-hadoop3.2.tgz"
      ],
      "metadata": {
        "id": "aiPdf3_Saz2W"
      },
      "execution_count": null,
      "outputs": []
    },
    {
      "cell_type": "code",
      "source": [
        "# set environment path\n",
        "import os\n",
        "os.environ['JAVA_HOME'] = '/usr/lib/jvm/java-8-openjdk-amd64'\n",
        "os.environ['SPARK_HOME'] = '/content/spark-3.2.1-bin-hadoop3.2'"
      ],
      "metadata": {
        "id": "9Hrlj1IXcTBQ"
      },
      "execution_count": null,
      "outputs": []
    },
    {
      "cell_type": "code",
      "source": [
        "# install and import findspark to locate Spark on the system\n",
        "!pip install -q findspark\n",
        "import findspark\n",
        "findspark.init()\n",
        "findspark.find()"
      ],
      "metadata": {
        "id": "pr3AiejHcoAT",
        "colab": {
          "base_uri": "https://localhost:8080/",
          "height": 35
        },
        "outputId": "9da816df-6c4c-4c44-d17e-471ed1b378ec"
      },
      "execution_count": null,
      "outputs": [
        {
          "output_type": "execute_result",
          "data": {
            "text/plain": [
              "'/content/spark-3.2.1-bin-hadoop3.2'"
            ],
            "application/vnd.google.colaboratory.intrinsic+json": {
              "type": "string"
            }
          },
          "metadata": {},
          "execution_count": 5
        }
      ]
    },
    {
      "cell_type": "code",
      "source": [
        "# Spark resilient distributed dataset (RDD)\n",
        "import pyspark\n",
        "sc = pyspark.SparkContext(appName='Act7')\n",
        "data = list(range(7))\n",
        "rdd = sc.parallelize(data)\n",
        "rdd.getNumPartitions(), rdd.collect()"
      ],
      "metadata": {
        "colab": {
          "base_uri": "https://localhost:8080/"
        },
        "id": "JqtO5D99CN3Z",
        "outputId": "7f150058-2ee7-459a-ed6f-dabb161c7b8e"
      },
      "execution_count": null,
      "outputs": [
        {
          "output_type": "execute_result",
          "data": {
            "text/plain": [
              "(2, [0, 1, 2, 3, 4, 5, 6])"
            ]
          },
          "metadata": {},
          "execution_count": 6
        }
      ]
    },
    {
      "cell_type": "code",
      "source": [
        "# import SparkSession from pyspark.sql and create a SparkSession, which is the entry point to Spark\n",
        "from pyspark.sql import SparkSession\n",
        "spark = SparkSession.builder.master('local').appName('Colab').config('spark.ui.port', '4050').getOrCreate()\n",
        "spark"
      ],
      "metadata": {
        "id": "-cfJx55Bc0Bq",
        "colab": {
          "base_uri": "https://localhost:8080/",
          "height": 221
        },
        "outputId": "7e364dfc-cd3e-40c4-90dd-3375532778bb"
      },
      "execution_count": null,
      "outputs": [
        {
          "output_type": "execute_result",
          "data": {
            "text/plain": [
              "<pyspark.sql.session.SparkSession at 0x7f085b042610>"
            ],
            "text/html": [
              "\n",
              "            <div>\n",
              "                <p><b>SparkSession - in-memory</b></p>\n",
              "                \n",
              "        <div>\n",
              "            <p><b>SparkContext</b></p>\n",
              "\n",
              "            <p><a href=\"http://3be73cf8dd10:4040\">Spark UI</a></p>\n",
              "\n",
              "            <dl>\n",
              "              <dt>Version</dt>\n",
              "                <dd><code>v3.2.1</code></dd>\n",
              "              <dt>Master</dt>\n",
              "                <dd><code>local[*]</code></dd>\n",
              "              <dt>AppName</dt>\n",
              "                <dd><code>Act7</code></dd>\n",
              "            </dl>\n",
              "        </div>\n",
              "        \n",
              "            </div>\n",
              "        "
            ]
          },
          "metadata": {},
          "execution_count": 7
        }
      ]
    },
    {
      "cell_type": "code",
      "source": [
        "# authorize Colab to access Google Drive\n",
        "from google.colab import drive\n",
        "drive.mount('/content/drive')"
      ],
      "metadata": {
        "colab": {
          "base_uri": "https://localhost:8080/"
        },
        "id": "AagtxRNgC_1G",
        "outputId": "5c5f6f8c-920c-4367-83e5-ff4303a2e711"
      },
      "execution_count": null,
      "outputs": [
        {
          "output_type": "stream",
          "name": "stdout",
          "text": [
            "Mounted at /content/drive\n"
          ]
        }
      ]
    },
    {
      "cell_type": "code",
      "source": [
        "# load data into PySpark\n",
        "customer = spark.read.json('/content/drive/My Drive/hw4_customer.json')\n",
        "order = spark.read.json('/content/drive/My Drive/hw4_order.json')\n",
        "product = spark.read.json('/content/drive/My Drive/hw4_product.json')\n",
        "orderline = spark.read.json('/content/drive/My Drive/hw4_orderline.json')\n"
      ],
      "metadata": {
        "id": "fFMBrjYDeBaw"
      },
      "execution_count": null,
      "outputs": []
    },
    {
      "cell_type": "markdown",
      "source": [
        "**1. What are the description, finish and standard price of product, which standard price is less than $275 in the ascending order?**"
      ],
      "metadata": {
        "id": "aKCLIToQXslU"
      }
    },
    {
      "cell_type": "code",
      "source": [
        "product.filter('productStandardPrice < 275').select('productDescription', 'productFinish', 'productStandardPrice').orderBy(product.productStandardPrice.asc()).show()"
      ],
      "metadata": {
        "colab": {
          "base_uri": "https://localhost:8080/"
        },
        "id": "nvcEpcbUX06K",
        "outputId": "4c832da0-97fa-4d27-d5de-940675f00f1c"
      },
      "execution_count": null,
      "outputs": [
        {
          "output_type": "stream",
          "name": "stdout",
          "text": [
            "+-------------------+-------------+--------------------+\n",
            "| productDescription|productFinish|productStandardPrice|\n",
            "+-------------------+-------------+--------------------+\n",
            "|        48 Bookcase|       Walnut|               150.0|\n",
            "|         Nightstand|       Cherry|               150.0|\n",
            "|   Cherry End Table|       Cherry|               175.0|\n",
            "|        48 Bookcase|          Oak|               175.0|\n",
            "|Birch Coffee Tables|        Birch|               200.0|\n",
            "|        96 Bookcase|          Oak|               200.0|\n",
            "|        96 Bookcase|       Walnut|               225.0|\n",
            "|     Pine End Table|         Pine|               256.0|\n",
            "+-------------------+-------------+--------------------+\n",
            "\n"
          ]
        }
      ]
    },
    {
      "cell_type": "markdown",
      "source": [
        "**2. What are the description, finish and standard price of all desks and all tables that cost more than $300 in the descending order?**"
      ],
      "metadata": {
        "id": "ZroQHbxaYemn"
      }
    },
    {
      "cell_type": "code",
      "source": [
        "from pyspark.sql.functions import col\n",
        "product.filter(col(\"productDescription\").rlike(\"Desk|Table\") & ~col(\"productStandardPrice\").between(0,300)).select('productDescription', 'productFinish', 'productStandardPrice').orderBy(product.productStandardPrice.desc()).show()"
      ],
      "metadata": {
        "colab": {
          "base_uri": "https://localhost:8080/"
        },
        "id": "6DEHvgqIY65d",
        "outputId": "1ec0b1e9-7bf8-4162-c72e-35123ba02846"
      },
      "execution_count": null,
      "outputs": [
        {
          "output_type": "stream",
          "name": "stdout",
          "text": [
            "+------------------+-------------+--------------------+\n",
            "|productDescription|productFinish|productStandardPrice|\n",
            "+------------------+-------------+--------------------+\n",
            "| Oak Computer Desk|          Oak|               750.0|\n",
            "|     Writer's Desk|          Oak|               325.0|\n",
            "+------------------+-------------+--------------------+\n",
            "\n"
          ]
        }
      ]
    },
    {
      "cell_type": "markdown",
      "source": [
        "**3. What are the description and finish of product that has been ordered in the ascending order of finish then description?**"
      ],
      "metadata": {
        "id": "6ckKgptIhLiQ"
      }
    },
    {
      "cell_type": "code",
      "source": [
        "product.join(orderline,['productID'],'leftsemi').select('productDescription', 'productFinish').orderBy(col(\"productFinish\"),col(\"productDescription\").asc()).show()"
      ],
      "metadata": {
        "colab": {
          "base_uri": "https://localhost:8080/"
        },
        "id": "mHa_nZ15Zy2Z",
        "outputId": "71e58cf4-2ef8-46e6-fabd-5da5aa7c2bc2"
      },
      "execution_count": null,
      "outputs": [
        {
          "output_type": "stream",
          "name": "stdout",
          "text": [
            "+--------------------+-------------+\n",
            "|  productDescription|productFinish|\n",
            "+--------------------+-------------+\n",
            "|    8-Drawer Dresser|        Birch|\n",
            "| Birch Coffee Tables|        Birch|\n",
            "|    Cherry End Table|       Cherry|\n",
            "|Entertainment Center|       Cherry|\n",
            "|         48 Bookcase|          Oak|\n",
            "|   Oak Computer Desk|          Oak|\n",
            "|       Writer's Desk|          Oak|\n",
            "|         48 Bookcase|       Walnut|\n",
            "+--------------------+-------------+\n",
            "\n"
          ]
        }
      ]
    },
    {
      "cell_type": "markdown",
      "source": [
        "**4. What are the name (no truncation), city and state of customer in Florida, Texas, California or Hawaii in the ascending order of name?**"
      ],
      "metadata": {
        "id": "T6A3PIVXou7O"
      }
    },
    {
      "cell_type": "code",
      "source": [
        "# display rows from top\n",
        "customer.filter(col(\"customerState\").isin(\"FL\",\"TX\",\"CA\",\"HI\")).select('customerName','customerCity','customerState').orderBy(customer.customerName.asc()).show(truncate=False)"
      ],
      "metadata": {
        "colab": {
          "base_uri": "https://localhost:8080/"
        },
        "id": "bGLwobgVeKS9",
        "outputId": "22df34b4-0b5b-44f4-cf3c-c873afa4ce04"
      },
      "execution_count": null,
      "outputs": [
        {
          "output_type": "stream",
          "name": "stdout",
          "text": [
            "+------------------------+------------+-------------+\n",
            "|customerName            |customerCity|customerState|\n",
            "+------------------------+------------+-------------+\n",
            "|California Classics     |Santa Clara |CA           |\n",
            "|Contemporary Casuals    |Gainesville |FL           |\n",
            "|Impressions             |Sacramento  |CA           |\n",
            "|Kaneohe Homes           |Kaneohe     |HI           |\n",
            "|M and H Casual Furniture|Clearwater  |FL           |\n",
            "|Seminole Interiors      |Seminole    |FL           |\n",
            "|Value Furniture         |Plano       |TX           |\n",
            "+------------------------+------------+-------------+\n",
            "\n"
          ]
        }
      ]
    },
    {
      "cell_type": "markdown",
      "source": [
        "**5. How many customers in each of the state Florida, Texas, California or Hawaii?**"
      ],
      "metadata": {
        "id": "I1Uccy3_ub1o"
      }
    },
    {
      "cell_type": "code",
      "source": [
        "customer.filter(col(\"customerState\").isin(\"FL\",\"TX\",\"CA\",\"HI\")).groupBy('customerState').count().show()"
      ],
      "metadata": {
        "colab": {
          "base_uri": "https://localhost:8080/"
        },
        "id": "HJM8w2eLutd9",
        "outputId": "d715d6af-e12a-4ceb-9771-357acf366019"
      },
      "execution_count": null,
      "outputs": [
        {
          "output_type": "stream",
          "name": "stdout",
          "text": [
            "+-------------+-----+\n",
            "|customerState|count|\n",
            "+-------------+-----+\n",
            "|           CA|    2|\n",
            "|           TX|    1|\n",
            "|           FL|    3|\n",
            "|           HI|    1|\n",
            "+-------------+-----+\n",
            "\n"
          ]
        }
      ]
    },
    {
      "cell_type": "markdown",
      "source": [
        "**6. What is the average standard price for all products in inventory?**"
      ],
      "metadata": {
        "id": "4oxMJaEovISj"
      }
    },
    {
      "cell_type": "code",
      "source": [
        "from pyspark.sql.functions import avg\n",
        "averageValue = product.agg(avg('productStandardPrice')).collect()[0][0]\n",
        "print(f'average price = {averageValue}')"
      ],
      "metadata": {
        "colab": {
          "base_uri": "https://localhost:8080/"
        },
        "id": "squ_g0AFvSWY",
        "outputId": "f5997b87-8df2-490d-9886-818140a37cb9"
      },
      "execution_count": null,
      "outputs": [
        {
          "output_type": "stream",
          "name": "stdout",
          "text": [
            "average price = 534.6315789473684\n"
          ]
        }
      ]
    },
    {
      "cell_type": "markdown",
      "source": [
        "**7. What are the product description, product finish, and the price higher than the average standard price for all products in inventory, in the descending order of price difference?**"
      ],
      "metadata": {
        "id": "Ij8rJBlowqKc"
      }
    },
    {
      "cell_type": "code",
      "source": [
        "product.withColumn(\"priceDifference\", product.productStandardPrice-averageValue).select('productDescription','productFinish','priceDifference').orderBy(product.productStandardPrice.desc()).show()"
      ],
      "metadata": {
        "colab": {
          "base_uri": "https://localhost:8080/"
        },
        "id": "sCRcW_9TxQWU",
        "outputId": "1814e929-e92c-4b96-ab18-fcc1638eaa04"
      },
      "execution_count": null,
      "outputs": [
        {
          "output_type": "stream",
          "name": "stdout",
          "text": [
            "+--------------------+-------------+-------------------+\n",
            "|  productDescription|productFinish|    priceDifference|\n",
            "+--------------------+-------------+-------------------+\n",
            "|Entertainment Center|       Cherry| 1115.3684210526317|\n",
            "|              Amoire|       Walnut|  665.3684210526316|\n",
            "|7' Grandfather Clock|          Oak|  565.3684210526316|\n",
            "|6' Grandfather Clock|          Oak| 355.36842105263156|\n",
            "|    8-Drawer Dresser|          Oak| 265.36842105263156|\n",
            "|    8-Drawer Dresser|        Birch| 215.36842105263156|\n",
            "|   Oak Computer Desk|          Oak| 215.36842105263156|\n",
            "|    4-Drawer Dresser|          Oak| -34.63157894736844|\n",
            "|High Back Leather...|      Leather|-172.63157894736844|\n",
            "|       Writer's Desk|          Oak|-209.63157894736844|\n",
            "|       Writer's Desk|        Birch|-234.63157894736844|\n",
            "|      Pine End Table|         Pine|-278.63157894736844|\n",
            "|         96 Bookcase|       Walnut|-309.63157894736844|\n",
            "|         96 Bookcase|          Oak|-334.63157894736844|\n",
            "| Birch Coffee Tables|        Birch|-334.63157894736844|\n",
            "|    Cherry End Table|       Cherry|-359.63157894736844|\n",
            "|         48 Bookcase|          Oak|-359.63157894736844|\n",
            "|         48 Bookcase|       Walnut|-384.63157894736844|\n",
            "|          Nightstand|       Cherry|-384.63157894736844|\n",
            "+--------------------+-------------+-------------------+\n",
            "\n"
          ]
        }
      ]
    },
    {
      "cell_type": "markdown",
      "source": [
        "**8. What are the order id, order date, the customer name (no truncation), and the overall total price for each order, in the ascending order of order id?**"
      ],
      "metadata": {
        "id": "nR4VJpoQzPzD"
      }
    },
    {
      "cell_type": "code",
      "source": [
        "from pyspark.sql.functions import sum\n",
        "order2=order.join(customer,['customerID'],'inner').select('orderID', 'orderDate','customerName')\n",
        "orderline2=orderline.join(product,['productID'],'inner').select('orderID','orderedQuantity','productStandardPrice')\n",
        "orderline2=orderline2.withColumn(\"cost\", orderline2.orderedQuantity*orderline2.productStandardPrice)\n",
        "orderline2=orderline2.groupBy('orderID').agg(sum('cost'))\n",
        "order2.join(orderline2,['orderID'],'inner').withColumnRenamed('sum(cost)','totalPrice').orderBy(order2.orderID.asc()).show(truncate=False)"
      ],
      "metadata": {
        "colab": {
          "base_uri": "https://localhost:8080/"
        },
        "id": "XNEymH1X22SR",
        "outputId": "85596faa-d4a3-44b7-c3aa-2e45cca5ad22"
      },
      "execution_count": null,
      "outputs": [
        {
          "output_type": "stream",
          "name": "stdout",
          "text": [
            "+-------+----------+------------------------+----------+\n",
            "|orderID|orderDate |customerName            |totalPrice|\n",
            "+-------+----------+------------------------+----------+\n",
            "|1001   |2010-10-21|Contemporary Casuals    |2400.0    |\n",
            "|1002   |2010-10-21|California Classics     |3750.0    |\n",
            "|1003   |2010-10-22|Mountain Scenes         |2250.0    |\n",
            "|1004   |2010-10-22|Impressions             |1850.0    |\n",
            "|1005   |2010-10-24|Home Furnishings        |4950.0    |\n",
            "|1006   |2010-10-24|Value Furniture         |2600.0    |\n",
            "|1007   |2010-10-27|American Euro Lifestyles|925.0     |\n",
            "|1008   |2010-10-30|Battle Creek Furniture  |2775.0    |\n",
            "|1009   |2010-11-05|Eastern Furniture       |3750.0    |\n",
            "|1010   |2010-11-05|Contemporary Casuals    |1750.0    |\n",
            "+-------+----------+------------------------+----------+\n",
            "\n"
          ]
        }
      ]
    },
    {
      "cell_type": "markdown",
      "source": [
        "**9. What are the id, name (no truncation), full address, and number of orders (0 if no order) for all customers, in the ascending order of customer id?**"
      ],
      "metadata": {
        "id": "yNvCTi4y-myW"
      }
    },
    {
      "cell_type": "code",
      "source": [
        "from pyspark.sql.functions import concat_ws,col\n",
        "customerCount=order.groupby('customerID').count()\n",
        "customer.join(customerCount,['customerID'],'full').na.fill(value=0).select('customerID','customerName',concat_ws(\", \",customer.customerAddress,customer.customerCity,customer.customerState).alias('Address'),'count').show(truncate=False)"
      ],
      "metadata": {
        "colab": {
          "base_uri": "https://localhost:8080/"
        },
        "id": "VIio5_5c2-89",
        "outputId": "f4827f64-75ab-4568-9092-f4f4ff3006f2"
      },
      "execution_count": null,
      "outputs": [
        {
          "output_type": "stream",
          "name": "stdout",
          "text": [
            "+----------+------------------------+---------------------------------------+-----+\n",
            "|customerID|customerName            |Address                                |count|\n",
            "+----------+------------------------+---------------------------------------+-----+\n",
            "|1         |Contemporary Casuals    |1355 S Hines Blvd, Gainesville, FL     |2    |\n",
            "|2         |Value Furniture         |15145 S.W. 17th St., Plano, TX         |1    |\n",
            "|3         |Home Furnishings        |1900 Allard Ave., Albany, NY           |1    |\n",
            "|4         |Eastern Furniture       |1925 Beltline Rd., Carteret, NJ        |1    |\n",
            "|5         |Impressions             |5585 Westcott Ct., Sacramento, CA      |1    |\n",
            "|6         |Furniture Gallery       |325 Flatiron Dr., Boulder, CO          |0    |\n",
            "|7         |Period Furniture        |394 Rainbow Dr., Seattle, WA           |0    |\n",
            "|8         |California Classics     |816 Peach Rd., Santa Clara, CA         |1    |\n",
            "|9         |M and H Casual Furniture|3709 First Street, Clearwater, FL      |0    |\n",
            "|10        |Seminole Interiors      |2400 Rocky Point Dr., Seminole, FL     |0    |\n",
            "|11        |American Euro Lifestyles|2424 Missouri Ave N., Prospect Park, NJ|1    |\n",
            "|12        |Battle Creek Furniture  |345 Capitol Ave. SW, Battle Creek, MI  |1    |\n",
            "|13        |Heritage Furnishings    |66789 College Ave., Carlisle, PA       |0    |\n",
            "|14        |Kaneohe Homes           |112 Kiowai St., Kaneohe, HI            |0    |\n",
            "|15        |Mountain Scenes         |4132 Main Street, Ogden, UT            |1    |\n",
            "+----------+------------------------+---------------------------------------+-----+\n",
            "\n"
          ]
        }
      ]
    }
  ]
}